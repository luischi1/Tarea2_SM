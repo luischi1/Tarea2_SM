{
 "cells": [
  {
   "cell_type": "markdown",
   "metadata": {},
   "source": [
    "# Python sobresale en los últimos rankings\n",
    "\n",
    "Según TIOBE, Python ha sido el lenguaje que más se ha levantado en los rankings, en comparación con los demás lenguajes. Ha ganado 3.62% puntos en el índex de enero 2019, rebasando a Visual Basic .NET y Java, que son el segundo y tercer lugar, respectivamente.\n",
    "\n",
    "Apenas en septiembre de 2018, Python había entrado en el top 3 de popularidad de TIOBE, gracias a sus crecientes escenarios en los que se puede usar. Tanto así, que es el primer lenguaje enseñado en universidades, a la vez que se usa para programación web, científica, entre otros usos.\n",
    "\n",
    "También es el más popular entre hackers gracias a que existen muchos tutoriales y abundan las librerías de software que pueden ser usados como malware.\n",
    "\n",
    "Se ha anunciado que, a partir del 1° de enero de 2020, Python 2 dejará de ser oficial, por lo que todos los proyectos deberán ser migrados a Python 3, la cuál será la única versión que recibirá asistencia oficial y gratuita.\n",
    "\n",
    "Otros lenguajes también han tenido ganancias significativas el último año, como es el caso de MATLAB, de pasar de un lugar 18° a un 11°, y Kotlin, de un 39° a un 31°.\n",
    "\n",
    "Los lenguajes que han caído significantemente incluyen a Ruby, pasando de un 11° lugar a un 18°, y Erlang, pasando de un 23° a un 50°.\n",
    "\n",
    "TIOBE predice que Kotlin, un lenguaje popular entre desarrolladores de Android, llegará al top 20 del 2019. "
   ]
  }
 ],
 "metadata": {
  "kernelspec": {
   "display_name": "Python 3",
   "language": "python",
   "name": "python3"
  },
  "language_info": {
   "codemirror_mode": {
    "name": "ipython",
    "version": 3
   },
   "file_extension": ".py",
   "mimetype": "text/x-python",
   "name": "python",
   "nbconvert_exporter": "python",
   "pygments_lexer": "ipython3",
   "version": "3.7.1"
  }
 },
 "nbformat": 4,
 "nbformat_minor": 2
}
