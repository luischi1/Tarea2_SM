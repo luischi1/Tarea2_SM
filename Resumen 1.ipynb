{
 "cells": [
  {
   "cell_type": "markdown",
   "metadata": {},
   "source": [
    "# Entrenamiento de Python\n",
    "\n",
    "Es importante saber que, de todos los lenguajes de programación, hay que elegir uno al cual invertir tiempo y dinero. Python es un lenguaje que lleva 3 décadas siendo el más utilizado, siendo el más sólido. Veremos si este se acopla a las necesidades del trabajo requerido.\n",
    "\n",
    "## Lo básico de Python\n",
    "\n",
    "Comenzar en Python es más fácil de lo que se piensa. Muchos Pc ya lo traen integrado en su configuración, de lo contrario, solo es necesario descargar el instalador y correrlo, como cualquier otra aplicación.\n",
    "Las capacidades de Python van desde propósitos generales hasta funciones de programación complejas. Su fácil sintaxis ayuda a simplificar el mantenimiento y las actualizaciones, además de expresar varios conceptos programables sin código adicional. Además de que la combinación con la gran librería de funciones lo hacen accesible a cualquiera, incluso novatos.\n",
    "\n",
    "## Usos de Python\n",
    "\n",
    "Complementos como Django y Flask son usados, junto con Python para programar páginas web. Mientras que Flask es para personas que empiezan a programar, Django es más veloz en el desarrollo de proyectos. A su vez, Machine Learning también nos ayuda a detectar patrones dentro de la información intercambiada con los usuarios.\n",
    "\n",
    "## Una ayuda\n",
    "\n",
    "Enseñar Python no es un problema. Dependiendo de la necesidad que se tenga, Python puede ser sencillo de enseñar, así como para generar algunas técnicas de trabajo y programas sencillos. Si se necesita añadir componentes más complejos a aplicaciones o sitios web, ahí si requeriríamos de un training que empuje las habilidades de quienes serían los encargados de los proyectos.\n",
    "\n",
    "## Conquistar un nuevo lenguaje\n",
    "\n",
    "Puede parecer intimidante aprender Python, pero una vez entrenado, encontrarás que es muy fácil aplicar sus conceptos en proyectos laborales."
   ]
  }
 ],
 "metadata": {
  "kernelspec": {
   "display_name": "Python 3",
   "language": "python",
   "name": "python3"
  },
  "language_info": {
   "codemirror_mode": {
    "name": "ipython",
    "version": 3
   },
   "file_extension": ".py",
   "mimetype": "text/x-python",
   "name": "python",
   "nbconvert_exporter": "python",
   "pygments_lexer": "ipython3",
   "version": "3.7.1"
  }
 },
 "nbformat": 4,
 "nbformat_minor": 2
}
